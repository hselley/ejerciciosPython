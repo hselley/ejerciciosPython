{
 "cells": [
  {
   "cell_type": "code",
   "execution_count": 12,
   "metadata": {},
   "outputs": [
    {
     "name": "stdout",
     "output_type": "stream",
     "text": [
      "r(30) = 4\n",
      "r(45) = 5\n",
      "r(0.09349758198950658) = 3.2576806911738836\n"
     ]
    }
   ],
   "source": [
    "import math\n",
    "\n",
    "class vector:\n",
    "    def __init__(self, d, a):\n",
    "        self.d = d\n",
    "        self.a = a\n",
    "\n",
    "    def componenteX(self):\n",
    "        return self.d * math.cos(self.a)\n",
    "\n",
    "    def componenteY(self):\n",
    "        return self.d * math.sin(self.a)\n",
    "\n",
    "    def __str__(self):\n",
    "        return f'r({self.a}) = {self.d}'\n",
    "\n",
    "    def __add__(self, other):\n",
    "        x = self.componenteX() + other.componenteX()\n",
    "        y = self.componenteY() + other.componenteY()\n",
    "        d = math.sqrt(x**2 + y**2)\n",
    "        a = math.tan(y/x)\n",
    "        return vector(d,a)\n",
    "\n",
    "v1 = vector(4, 30)\n",
    "print(v1)\n",
    "v2 = vector(5, 45)\n",
    "print(v2)\n",
    "\n",
    "v3 = v1 + v2\n",
    "print(v3)"
   ]
  },
  {
   "cell_type": "code",
   "execution_count": null,
   "metadata": {},
   "outputs": [],
   "source": []
  }
 ],
 "metadata": {
  "kernelspec": {
   "display_name": "Python 3",
   "language": "python",
   "name": "python3"
  },
  "language_info": {
   "codemirror_mode": {
    "name": "ipython",
    "version": 3
   },
   "file_extension": ".py",
   "mimetype": "text/x-python",
   "name": "python",
   "nbconvert_exporter": "python",
   "pygments_lexer": "ipython3",
   "version": "3.12.4"
  }
 },
 "nbformat": 4,
 "nbformat_minor": 2
}
