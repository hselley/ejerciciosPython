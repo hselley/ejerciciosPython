{
 "cells": [
  {
   "cell_type": "markdown",
   "metadata": {},
   "source": [
    "Desarrollar un mini-sistema para el registro de huespedes de un hotel. Para ello desarrolle una \n",
    "clase _Persona_ que tenga los atributos _nombre_ y _edad_. debe tener una propiedad\n",
    "que muestre la información de la persona. Desarrolle además otra clase llamada _Huesped_ que se \n",
    "construya a partir de la clase _Persona_ de manera que herede sus propiedades y métodos. \n",
    "\n",
    "La clase _Huesped_ debe tener además sus propiedades adicionales para la información requerida:\n",
    "* Habitación (int)\n",
    "* RFC (string)\n",
    "* Número de cuenta (float)\n",
    "* Fecha de ingreso (string)\n",
    "* Hospedado actualmente (booleano)\n",
    "* Servicio a la habitación (Un diccionario donde la _llave_ es el producto y el _valor_ el costo \n",
    "del producto)\n",
    "\n",
    "Además, la clase debe tener un par de métodos:\n",
    "* Mostrar información básica del huesped\n",
    "* Saldo hasta el día de hoy. Se debe considerar el costo de la renta de la habitación por los días\n",
    "que lleva hospedado y los gastos del servicio a la habitación (almacenados en el diccionario)."
   ]
  },
  {
   "cell_type": "code",
   "execution_count": 26,
   "metadata": {},
   "outputs": [
    {
     "name": "stdout",
     "output_type": "stream",
     "text": [
      "Juan Pérez -> 30\n",
      "Nombre: Juan Pérez, Habitación: 101, RFC: RFC123456, Ingreso: 2024-07-01\n",
      "Saldo hasta hoy: 3450\n"
     ]
    }
   ],
   "source": [
    "from datetime import datetime\n",
    "\n",
    "class Persona:\n",
    "    def __init__(self, nombre, edad):\n",
    "        self.nombre, self.edad = nombre, edad\n",
    "\n",
    "    def mostrarInfo(self):\n",
    "        return f'{self.nombre} -> {self.edad}'\n",
    "\n",
    "class Huesped(Persona):\n",
    "    def __init__(self, nombre, edad, habitacion, rfc, numCuenta, fechaIngreso, hospedado, servicioHabitacion):\n",
    "        super().__init__(nombre, edad)\n",
    "        self.habitacion = habitacion\n",
    "        self.rfc = rfc\n",
    "        self.numCuenta = numCuenta\n",
    "        self.fechaIngreso = fechaIngreso\n",
    "        self.hospedado = hospedado\n",
    "        self.servicioHabitacion = servicioHabitacion\n",
    "        \n",
    "    def mostrarInfoHuesped(self):\n",
    "        if self.hospedado == True:\n",
    "            return f'Nombre: {self.nombre}, Habitación: {self.habitacion}, RFC: {self.rfc}, Ingreso: {self.fechaIngreso}'\n",
    "        else:\n",
    "            return f'El huesped {self.nombre} ya no se encuentra hospedado en el hotel.'\n",
    "        \n",
    "    def saldo(self, costoPorDia):\n",
    "        fechaIngreso = datetime.strptime(self.fechaIngreso, \"%Y-%m-%d\")\n",
    "        diasHospedado = (datetime.now() - fechaIngreso).days\n",
    "        costoHabitacion = diasHospedado * costoPorDia\n",
    "        costoServicio = sum(self.servicioHabitacion.values())\n",
    "        return costoServicio + costoHabitacion\n",
    "    \n",
    "# Ejemplo de uso\n",
    "servicios = {\"Desayuno\": 100, \"Cena\": 150}\n",
    "huesped = Huesped(\"Juan Pérez\", 30, 101, \"RFC123456\", 123456789.0, \"2024-07-01\", True, servicios)\n",
    "\n",
    "print(huesped.mostrarInfo())\n",
    "print(huesped.mostrarInfoHuesped())\n",
    "print(\"Saldo hasta hoy:\", huesped.saldo(200))  # Costo por día: 200\n"
   ]
  }
 ],
 "metadata": {
  "kernelspec": {
   "display_name": "Python 3",
   "language": "python",
   "name": "python3"
  },
  "language_info": {
   "codemirror_mode": {
    "name": "ipython",
    "version": 3
   },
   "file_extension": ".py",
   "mimetype": "text/x-python",
   "name": "python",
   "nbconvert_exporter": "python",
   "pygments_lexer": "ipython3",
   "version": "3.11.9"
  }
 },
 "nbformat": 4,
 "nbformat_minor": 2
}
