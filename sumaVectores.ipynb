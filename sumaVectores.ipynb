{
 "cells": [
  {
   "cell_type": "code",
   "execution_count": 1,
   "metadata": {},
   "outputs": [],
   "source": [
    "import math\n",
    "\n",
    "class vector:\n",
    "    def __init__(self, x, y):\n",
    "        self.x = x\n",
    "        self.y = y\n",
    "\n",
    "    def angulo(self):\n",
    "        return math.atan(self.y/self.x)\n",
    "\n",
    "    def anguloGrados(self):\n",
    "        return vector.angulo(self=self) *180 / math.pi\n",
    "\n",
    "    def magnitud(self):\n",
    "        return math.sqrt(self.x**2 + self.y**2)\n",
    "\n",
    "    def __str__(self):\n",
    "        return f'({self.x}, {self.y})'\n",
    "\n",
    "    def __add__(self, other):\n",
    "        x = self.x + other.x\n",
    "        y = self.y + other.y\n",
    "        return vector(x, y)"
   ]
  },
  {
   "cell_type": "code",
   "execution_count": 4,
   "metadata": {},
   "outputs": [
    {
     "name": "stdout",
     "output_type": "stream",
     "text": [
      "(5, -1)\n",
      "5.0990195135927845\n",
      "-0.19739555984988078\n",
      "-11.309932474020213\n",
      "(2, -4)\n",
      "4.47213595499958\n",
      "-1.1071487177940904\n",
      "-63.43494882292201\n",
      "(7, -5)\n",
      "\n"
     ]
    }
   ],
   "source": [
    "# Ejemplo\n",
    "v1 = vector(5, -1)\n",
    "print(v1)\n",
    "print(v1.magnitud())\n",
    "print(v1.angulo())\n",
    "print(v1.anguloGrados())\n",
    "\n",
    "v2 = vector(2, -4)\n",
    "print(v2)\n",
    "print(v2.magnitud())\n",
    "print(v2.angulo())\n",
    "print(v2.anguloGrados())\n",
    "\n",
    "\n",
    "v3 = v1 + v2\n",
    "print(v3)\n",
    "print()\n"
   ]
  },
  {
   "cell_type": "code",
   "execution_count": null,
   "metadata": {},
   "outputs": [],
   "source": []
  }
 ],
 "metadata": {
  "kernelspec": {
   "display_name": "Python 3",
   "language": "python",
   "name": "python3"
  },
  "language_info": {
   "codemirror_mode": {
    "name": "ipython",
    "version": 3
   },
   "file_extension": ".py",
   "mimetype": "text/x-python",
   "name": "python",
   "nbconvert_exporter": "python",
   "pygments_lexer": "ipython3",
   "version": "3.12.4"
  }
 },
 "nbformat": 4,
 "nbformat_minor": 2
}
