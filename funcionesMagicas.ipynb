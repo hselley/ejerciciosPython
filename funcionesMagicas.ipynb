{
 "cells": [
  {
   "cell_type": "markdown",
   "metadata": {},
   "source": [
    "# Ejemplos simples"
   ]
  },
  {
   "cell_type": "code",
   "execution_count": 1,
   "metadata": {},
   "outputs": [
    {
     "name": "stdout",
     "output_type": "stream",
     "text": [
      "Juan, 30 años\n",
      "Persona('Juan', 30)\n"
     ]
    }
   ],
   "source": [
    "class Persona:\n",
    "    def __init__(self, nombre, edad):\n",
    "        self.nombre = nombre\n",
    "        self.edad = edad\n",
    "\n",
    "    def __str__(self):\n",
    "        return f'{self.nombre}, {self.edad} años'\n",
    "\n",
    "    def __repr__(self):\n",
    "        return f'Persona({self.nombre!r}, {self.edad!r})'\n",
    "\n",
    "persona = Persona('Juan', 30)\n",
    "print(persona)          # Usa __str__\n",
    "print(repr(persona))    # Usa __repr__\n"
   ]
  },
  {
   "cell_type": "code",
   "execution_count": 2,
   "metadata": {},
   "outputs": [
    {
     "name": "stdout",
     "output_type": "stream",
     "text": [
      "4\n",
      "3\n"
     ]
    }
   ],
   "source": [
    "class MiLista:\n",
    "    def __init__(self, elementos):\n",
    "        self.elementos = elementos\n",
    "\n",
    "    def __len__(self):\n",
    "        return len(self.elementos)\n",
    "\n",
    "    def __getitem__(self, posicion):\n",
    "        return self.elementos[posicion]\n",
    "\n",
    "lista = MiLista([1, 2, 3, 4])\n",
    "print(len(lista))    # Usa __len__\n",
    "print(lista[2])      # Usa __getitem__\n"
   ]
  },
  {
   "cell_type": "code",
   "execution_count": 3,
   "metadata": {},
   "outputs": [
    {
     "name": "stdout",
     "output_type": "stream",
     "text": [
      "Entrando al contexto\n",
      "Dentro del bloque with\n",
      "Saliendo del contexto\n"
     ]
    }
   ],
   "source": [
    "class GestorRecursos:\n",
    "    def __enter__(self):\n",
    "        print(\"Entrando al contexto\")\n",
    "        return self\n",
    "\n",
    "    def __exit__(self, tipo, valor, traza):\n",
    "        print(\"Saliendo del contexto\")\n",
    "\n",
    "with GestorRecursos() as recurso:\n",
    "    print(\"Dentro del bloque with\")\n"
   ]
  },
  {
   "cell_type": "code",
   "execution_count": 4,
   "metadata": {},
   "outputs": [
    {
     "name": "stdout",
     "output_type": "stream",
     "text": [
      "Hola, Mundo!\n"
     ]
    }
   ],
   "source": [
    "class Saludador:\n",
    "    def __init__(self, saludo):\n",
    "        self.saludo = saludo\n",
    "\n",
    "    def __call__(self, nombre):\n",
    "        return f'{self.saludo}, {nombre}!'\n",
    "\n",
    "saludador = Saludador('Hola')\n",
    "print(saludador('Mundo'))  # Usa __call__\n"
   ]
  },
  {
   "cell_type": "markdown",
   "metadata": {},
   "source": [
    "# Ejemplos más avanzados"
   ]
  },
  {
   "cell_type": "code",
   "execution_count": 5,
   "metadata": {},
   "outputs": [
    {
     "name": "stdout",
     "output_type": "stream",
     "text": [
      "20\n",
      "20\n",
      "True\n"
     ]
    }
   ],
   "source": [
    "class Singleton:\n",
    "    _instancia = None\n",
    "\n",
    "    def __new__(cls, *args, **kwargs):\n",
    "        if cls._instancia is None:\n",
    "            cls._instancia = super().__new__(cls)\n",
    "        return cls._instancia\n",
    "\n",
    "    def __init__(self, valor):\n",
    "        self.valor = valor\n",
    "\n",
    "obj1 = Singleton(10)\n",
    "obj2 = Singleton(20)\n",
    "\n",
    "print(obj1.valor)  # 20\n",
    "print(obj2.valor)  # 20\n",
    "print(obj1 is obj2)  # True\n"
   ]
  },
  {
   "cell_type": "code",
   "execution_count": 6,
   "metadata": {},
   "outputs": [
    {
     "name": "stdout",
     "output_type": "stream",
     "text": [
      "Python\n",
      "edad no encontrado\n"
     ]
    }
   ],
   "source": [
    "class AtributosDinamicos:\n",
    "    def __init__(self):\n",
    "        self.datos = {}\n",
    "\n",
    "    def __getattr__(self, nombre):\n",
    "        return self.datos.get(nombre, f'{nombre} no encontrado')\n",
    "\n",
    "    def __setattr__(self, nombre, valor):\n",
    "        if nombre == 'datos':\n",
    "            super().__setattr__(nombre, valor)\n",
    "        else:\n",
    "            self.datos[nombre] = valor\n",
    "\n",
    "obj = AtributosDinamicos()\n",
    "obj.nombre = 'Python'\n",
    "print(obj.nombre)  # Python\n",
    "print(obj.edad)    # edad no encontrado\n"
   ]
  },
  {
   "cell_type": "code",
   "execution_count": 7,
   "metadata": {},
   "outputs": [
    {
     "name": "stdout",
     "output_type": "stream",
     "text": [
      "valor\n",
      "Clave no encontrada\n"
     ]
    }
   ],
   "source": [
    "class DiccionarioPersonalizado:\n",
    "    def __init__(self):\n",
    "        self.datos = {}\n",
    "\n",
    "    def __setitem__(self, clave, valor):\n",
    "        self.datos[clave] = valor\n",
    "\n",
    "    def __getitem__(self, clave):\n",
    "        return self.datos.get(clave, 'Clave no encontrada')\n",
    "\n",
    "    def __delitem__(self, clave):\n",
    "        if clave in self.datos:\n",
    "            del self.datos[clave]\n",
    "\n",
    "dic = DiccionarioPersonalizado()\n",
    "dic['clave'] = 'valor'\n",
    "print(dic['clave'])  # valor\n",
    "del dic['clave']\n",
    "print(dic['clave'])  # Clave no encontrada\n"
   ]
  },
  {
   "cell_type": "code",
   "execution_count": 8,
   "metadata": {},
   "outputs": [
    {
     "name": "stdout",
     "output_type": "stream",
     "text": [
      "True\n",
      "True\n",
      "{<__main__.Persona object at 0x7f2b18574b90>, <__main__.Persona object at 0x7f2b18575550>}\n"
     ]
    }
   ],
   "source": [
    "class Persona:\n",
    "    def __init__(self, nombre, edad):\n",
    "        self.nombre = nombre\n",
    "        self.edad = edad\n",
    "\n",
    "    def __eq__(self, otro):\n",
    "        return self.nombre == otro.nombre and self.edad == otro.edad\n",
    "\n",
    "    def __lt__(self, otro):\n",
    "        return self.edad < otro.edad\n",
    "\n",
    "    def __hash__(self):\n",
    "        return hash((self.nombre, self.edad))\n",
    "\n",
    "p1 = Persona('Juan', 25)\n",
    "p2 = Persona('Juan', 25)\n",
    "p3 = Persona('Ana', 30)\n",
    "\n",
    "print(p1 == p2)  # True\n",
    "print(p1 < p3)   # True\n",
    "print({p1, p2, p3})  # Conjunto con 2 elementos\n"
   ]
  },
  {
   "cell_type": "code",
   "execution_count": 9,
   "metadata": {},
   "outputs": [
    {
     "name": "stdout",
     "output_type": "stream",
     "text": [
      "1 2\n"
     ]
    }
   ],
   "source": [
    "class Optimizado:\n",
    "    __slots__ = ['x', 'y']\n",
    "\n",
    "    def __init__(self, x, y):\n",
    "        self.x = x\n",
    "        self.y = y\n",
    "\n",
    "obj = Optimizado(1, 2)\n",
    "print(obj.x, obj.y)\n"
   ]
  },
  {
   "cell_type": "code",
   "execution_count": 10,
   "metadata": {},
   "outputs": [
    {
     "name": "stdout",
     "output_type": "stream",
     "text": [
      "Accediendo a valor\n",
      "10\n"
     ]
    }
   ],
   "source": [
    "class AccesoControlado:\n",
    "    def __init__(self, valor):\n",
    "        self.valor = valor\n",
    "\n",
    "    def __getattribute__(self, nombre):\n",
    "        print(f'Accediendo a {nombre}')\n",
    "        return super().__getattribute__(nombre)\n",
    "\n",
    "obj = AccesoControlado(10)\n",
    "print(obj.valor)\n"
   ]
  },
  {
   "cell_type": "code",
   "execution_count": 11,
   "metadata": {},
   "outputs": [
    {
     "name": "stdout",
     "output_type": "stream",
     "text": [
      "True\n",
      "False\n"
     ]
    }
   ],
   "source": [
    "class Coleccion:\n",
    "    def __init__(self, elementos):\n",
    "        self.elementos = elementos\n",
    "\n",
    "    def __contains__(self, item):\n",
    "        return item in self.elementos\n",
    "\n",
    "col = Coleccion([1, 2, 3])\n",
    "print(2 in col)  # True\n",
    "print(5 in col)  # False\n"
   ]
  },
  {
   "cell_type": "code",
   "execution_count": 12,
   "metadata": {},
   "outputs": [
    {
     "name": "stdout",
     "output_type": "stream",
     "text": [
      "0\n",
      "1\n",
      "2\n",
      "3\n",
      "4\n"
     ]
    }
   ],
   "source": [
    "class Contador:\n",
    "    def __init__(self, inicio, fin):\n",
    "        self.actual = inicio\n",
    "        self.fin = fin\n",
    "\n",
    "    def __iter__(self):\n",
    "        return self\n",
    "\n",
    "    def __next__(self):\n",
    "        if self.actual < self.fin:\n",
    "            actual = self.actual\n",
    "            self.actual += 1\n",
    "            return actual\n",
    "        else:\n",
    "            raise StopIteration\n",
    "\n",
    "contador = Contador(0, 5)\n",
    "for numero in contador:\n",
    "    print(numero)\n"
   ]
  },
  {
   "cell_type": "code",
   "execution_count": 13,
   "metadata": {},
   "outputs": [
    {
     "name": "stdout",
     "output_type": "stream",
     "text": [
      "Recurso creado\n",
      "Recurso liberado\n"
     ]
    }
   ],
   "source": [
    "class Recurso:\n",
    "    def __init__(self):\n",
    "        print(\"Recurso creado\")\n",
    "\n",
    "    def __del__(self):\n",
    "        print(\"Recurso liberado\")\n",
    "\n",
    "r = Recurso()\n",
    "del r\n"
   ]
  }
 ],
 "metadata": {
  "kernelspec": {
   "display_name": "Python 3",
   "language": "python",
   "name": "python3"
  },
  "language_info": {
   "codemirror_mode": {
    "name": "ipython",
    "version": 3
   },
   "file_extension": ".py",
   "mimetype": "text/x-python",
   "name": "python",
   "nbconvert_exporter": "python",
   "pygments_lexer": "ipython3",
   "version": "3.11.9"
  }
 },
 "nbformat": 4,
 "nbformat_minor": 2
}
