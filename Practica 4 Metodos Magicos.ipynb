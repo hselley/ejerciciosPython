{
 "cells": [
  {
   "cell_type": "markdown",
   "metadata": {},
   "source": [
    "# Métodos Mágicos"
   ]
  },
  {
   "cell_type": "markdown",
   "metadata": {},
   "source": [
    "Desarrolle en _Python_ los siguientes programas.\n",
    "\n",
    "1. Implemente una clase `Rectangulo` que represente un rectángulo y que tenga dos atributos\n",
    "    `base` y `altura`. Use `__eq__` para comparar si dos rectángulos son iguales (misma base y \n",
    "    altura) y `__ne__` para verificar si son diferentes. Utilice los métodos `__gt__` y `__lt__`\n",
    "    para comparar el área de dos rectángulos, devuelva `True` o `False` según sea el caso."
   ]
  },
  {
   "cell_type": "code",
   "execution_count": 8,
   "metadata": {},
   "outputs": [],
   "source": [
    "class Rectangulo:\n",
    "    def __init__(self, base, altura):\n",
    "        self.base = base\n",
    "        self.altura = altura\n",
    "    \n",
    "    def __eq__(self, other):\n",
    "        if self.base == other.base and self.altura == other.altura:\n",
    "            return True\n",
    "        else: \n",
    "            return False\n",
    "\n",
    "    def __ne__(self, other):\n",
    "        if self.base != other.base and self.altura != other.altura:\n",
    "            return True\n",
    "        else: \n",
    "            return False\n",
    "    \n",
    "    def __gt__(self, other):\n",
    "        if self.base * self.altura > other.base * other.altura:\n",
    "            return True\n",
    "        else: \n",
    "            return False\n",
    "    \n",
    "    def __lt__(self, other):\n",
    "        if self.base * self.altura < other.base * other.altura:\n",
    "            return True\n",
    "        else: \n",
    "            return False\n",
    "\n",
    "    def __str__(self):\n",
    "        return f'Base = {self.base}, Altura = {self.altura}'"
   ]
  },
  {
   "cell_type": "code",
   "execution_count": 13,
   "metadata": {},
   "outputs": [
    {
     "name": "stdout",
     "output_type": "stream",
     "text": [
      "Base = 2, Altura = 5\n",
      "Base = 5, Altura = 2\n",
      "False\n",
      "True\n",
      "Base = 2, Altura = 5\n",
      "True\n",
      "False\n",
      "False\n",
      "False\n",
      "False\n",
      "True\n"
     ]
    }
   ],
   "source": [
    "r1 = Rectangulo(2,5)\n",
    "print(r1)\n",
    "r2 = Rectangulo(5,2)\n",
    "print(r2)\n",
    "\n",
    "print(r1 == r2)\n",
    "print(r1 != r2)\n",
    "\n",
    "r3 = Rectangulo(2,5)\n",
    "print(r3)\n",
    "print(r1 == r3)\n",
    "print(r1 != r3)\n",
    "\n",
    "print(r1 > r2)\n",
    "print(r1 < r2)\n",
    "\n",
    "r4 = Rectangulo(5, 10)\n",
    "print(r1 > r4)\n",
    "print(r1 < r4)"
   ]
  },
  {
   "cell_type": "markdown",
   "metadata": {},
   "source": [
    "2. Implemente una clase `Playlist` que tenga una lista de sus canciones favoritas. Use el \n",
    "    método `__len__` para devolver el número de canciones mediante el llamado `len(miLista)`.\n",
    "    Utilice además el método `__getitem__` para devolver una canción de la lista de acuerdo al \n",
    "    argumento recibido en el método. Finalmente utilice `__setitem__` para establecer una nueva \n",
    "    canción en la posición indicada, ambos pasados como argumentos del método."
   ]
  },
  {
   "cell_type": "code",
   "execution_count": 36,
   "metadata": {},
   "outputs": [],
   "source": [
    "class Playlist:\n",
    "    def __init__(self, lista):\n",
    "        self.lista = lista\n",
    "\n",
    "    def __len__(self):\n",
    "        return len(self.lista)\n",
    "\n",
    "    def __str__(self):\n",
    "        s = ''\n",
    "        for i in range(len(self.lista)):\n",
    "            s += str(i+1) + '. ' + str(self.lista[i]) + '\\n'\n",
    "\n",
    "        return s\n",
    "\n",
    "    def __getitem__(self, index):\n",
    "        return f'La canción en la posición {index} es: {self.lista[index-1]}'\n",
    "\n",
    "    def __setitem__(self, index, value):\n",
    "        self.lista[index-1] = value"
   ]
  },
  {
   "cell_type": "code",
   "execution_count": 37,
   "metadata": {},
   "outputs": [
    {
     "name": "stdout",
     "output_type": "stream",
     "text": [
      "Su lista tiene 4 canciones.\n",
      "1. Us and them\n",
      "2. Bitter sweet symphony\n",
      "3. Champagne Supernova\n",
      "4. Snowden\n",
      "\n",
      "La canción en la posición 3 es: Champagne Supernova\n",
      "1. Us and them\n",
      "2. Bitter sweet symphony\n",
      "3. The masterplan\n",
      "4. Snowden\n",
      "\n"
     ]
    }
   ],
   "source": [
    "miLista = Playlist([\"Us and them\", \"Bitter sweet symphony\", \"Champagne Supernova\", \"Snowden\"])\n",
    "print(f'Su lista tiene {len(miLista)} canciones.')\n",
    "print(miLista)\n",
    "print(miLista[3])\n",
    "miLista[3] = \"The masterplan\"\n",
    "print(miLista)"
   ]
  },
  {
   "cell_type": "code",
   "execution_count": null,
   "metadata": {},
   "outputs": [],
   "source": []
  }
 ],
 "metadata": {
  "kernelspec": {
   "display_name": "Python 3",
   "language": "python",
   "name": "python3"
  },
  "language_info": {
   "codemirror_mode": {
    "name": "ipython",
    "version": 3
   },
   "file_extension": ".py",
   "mimetype": "text/x-python",
   "name": "python",
   "nbconvert_exporter": "python",
   "pygments_lexer": "ipython3",
   "version": "3.12.4"
  }
 },
 "nbformat": 4,
 "nbformat_minor": 2
}
